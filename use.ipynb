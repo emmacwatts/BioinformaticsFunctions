{
 "cells": [
  {
   "attachments": {},
   "cell_type": "markdown",
   "metadata": {},
   "source": [
    "Plain Text FASTA example use"
   ]
  },
  {
   "cell_type": "code",
   "execution_count": 1,
   "metadata": {},
   "outputs": [
    {
     "name": "stdout",
     "output_type": "stream",
     "text": [
      "Invalid codons: number of bases not divisible by 3.\n",
      "Removed invalid characters ['D'].\n"
     ]
    }
   ],
   "source": [
    "from utils import plaintextFASTA\n",
    "\n",
    "exampleHeader = \"example\"\n",
    "text = \"ATGCD\"\n",
    "\n",
    "plaintextFASTA(exampleHeader, text, filepath = \"outputFiles/examplePlainText.fasta\", nucleotide = True, atgStart = False)"
   ]
  },
  {
   "cell_type": "code",
   "execution_count": 10,
   "metadata": {},
   "outputs": [
    {
     "name": "stdout",
     "output_type": "stream",
     "text": [
      "Removed numbers from original sequence.\n",
      "Removed special charactes.\n"
     ]
    }
   ],
   "source": [
    "#For Influenza genome - need only CDS for each of the genome segments - this is completed and has been moved to the influenza genome file.\n",
    "\n",
    "#currently onto segment 3\n",
    "from utils import plaintextFASTA\n",
    "\n",
    "header = \"nonstructural protein 1 (seg8)\"\n",
    " \n",
    "with open('inputFiles/seg.txt','r') as file:\n",
    "    txtStr = file.read()\n",
    "\n",
    "sequence = txtStr\n",
    "\n",
    "plaintextFASTA(header, sequence, filepath = \"outputFiles/InfluenzaAvirus(AWSN1933TS61(H1N1))CDS.fasta\")"
   ]
  },
  {
   "attachments": {},
   "cell_type": "markdown",
   "metadata": {},
   "source": [
    "### Example use of baseContent function "
   ]
  },
  {
   "cell_type": "code",
   "execution_count": 13,
   "metadata": {},
   "outputs": [
    {
     "ename": "ImportError",
     "evalue": "cannot import name 'baseContent' from 'utils' (/Users/user/Desktop/Home/GitHubProjects/BioinformaticsFunctions/utils.py)",
     "output_type": "error",
     "traceback": [
      "\u001b[0;31m---------------------------------------------------------------------------\u001b[0m",
      "\u001b[0;31mImportError\u001b[0m                               Traceback (most recent call last)",
      "Cell \u001b[0;32mIn[13], line 1\u001b[0m\n\u001b[0;32m----> 1\u001b[0m \u001b[39mfrom\u001b[39;00m \u001b[39mutils\u001b[39;00m \u001b[39mimport\u001b[39;00m baseContent\n\u001b[1;32m      3\u001b[0m baseContent(\u001b[39m'\u001b[39m\u001b[39moutputFiles/example.fasta\u001b[39m\u001b[39m'\u001b[39m, GCcontent\u001b[39m=\u001b[39m \u001b[39mTrue\u001b[39;00m)\n",
      "\u001b[0;31mImportError\u001b[0m: cannot import name 'baseContent' from 'utils' (/Users/user/Desktop/Home/GitHubProjects/BioinformaticsFunctions/utils.py)"
     ]
    }
   ],
   "source": [
    "from utils import baseContent\n",
    "\n",
    "baseContent('outputFiles/example.fasta', GCcontent= True)"
   ]
  },
  {
   "cell_type": "code",
   "execution_count": null,
   "metadata": {},
   "outputs": [],
   "source": []
  }
 ],
 "metadata": {
  "kernelspec": {
   "display_name": "Python 3",
   "language": "python",
   "name": "python3"
  },
  "language_info": {
   "codemirror_mode": {
    "name": "ipython",
    "version": 3
   },
   "file_extension": ".py",
   "mimetype": "text/x-python",
   "name": "python",
   "nbconvert_exporter": "python",
   "pygments_lexer": "ipython3",
   "version": "3.11.1"
  },
  "orig_nbformat": 4,
  "vscode": {
   "interpreter": {
    "hash": "aee8b7b246df8f9039afb4144a1f6fd8d2ca17a180786b69acc140d282b71a49"
   }
  }
 },
 "nbformat": 4,
 "nbformat_minor": 2
}
